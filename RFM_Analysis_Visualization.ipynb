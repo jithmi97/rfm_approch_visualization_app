{
  "nbformat": 4,
  "nbformat_minor": 0,
  "metadata": {
    "colab": {
      "provenance": []
    },
    "kernelspec": {
      "name": "python3",
      "display_name": "Python 3"
    },
    "language_info": {
      "name": "python"
    }
  },
  "cells": [
    {
      "cell_type": "code",
      "source": [
        "! pip install streamlit -q"
      ],
      "metadata": {
        "colab": {
          "base_uri": "https://localhost:8080/"
        },
        "id": "3pAH_vPmy9qG",
        "outputId": "443bcf75-5f50-441b-d412-3ab13be0cf1d"
      },
      "execution_count": 2,
      "outputs": [
        {
          "output_type": "stream",
          "name": "stdout",
          "text": [
            "\u001b[2K     \u001b[90m━━━━━━━━━━━━━━━━━━━━━━━━━━━━━━━━━━━━━━━━\u001b[0m \u001b[32m8.4/8.4 MB\u001b[0m \u001b[31m17.1 MB/s\u001b[0m eta \u001b[36m0:00:00\u001b[0m\n",
            "\u001b[2K     \u001b[90m━━━━━━━━━━━━━━━━━━━━━━━━━━━━━━━━━━━━━━━━\u001b[0m \u001b[32m190.6/190.6 kB\u001b[0m \u001b[31m19.5 MB/s\u001b[0m eta \u001b[36m0:00:00\u001b[0m\n",
            "\u001b[2K     \u001b[90m━━━━━━━━━━━━━━━━━━━━━━━━━━━━━━━━━━━━━━━━\u001b[0m \u001b[32m4.8/4.8 MB\u001b[0m \u001b[31m41.5 MB/s\u001b[0m eta \u001b[36m0:00:00\u001b[0m\n",
            "\u001b[2K     \u001b[90m━━━━━━━━━━━━━━━━━━━━━━━━━━━━━━━━━━━━━━━━\u001b[0m \u001b[32m82.1/82.1 kB\u001b[0m \u001b[31m6.2 MB/s\u001b[0m eta \u001b[36m0:00:00\u001b[0m\n",
            "\u001b[2K     \u001b[90m━━━━━━━━━━━━━━━━━━━━━━━━━━━━━━━━━━━━━━━━\u001b[0m \u001b[32m62.7/62.7 kB\u001b[0m \u001b[31m6.8 MB/s\u001b[0m eta \u001b[36m0:00:00\u001b[0m\n",
            "\u001b[?25h"
          ]
        }
      ]
    },
    {
      "cell_type": "code",
      "source": [
        "import pandas as pd\n",
        "from google.colab import drive\n",
        "drive.mount('/content/drive')\n",
        "file_path1 = '/content/drive/MyDrive//Colab Notebooks/data/Online_Retail_Data/rfm_output.csv'\n",
        "rfmoutput_df = pd.read_csv(file_path1)\n",
        "\n",
        "file_path2 = '/content/drive/MyDrive//Colab Notebooks/data/Online_Retail_Data/summary_result.csv'\n",
        "summaryresult_df = pd.read_csv(file_path2)"
      ],
      "metadata": {
        "colab": {
          "base_uri": "https://localhost:8080/"
        },
        "id": "AGZCCFv0J7to",
        "outputId": "b8fa0d71-425e-434b-9bc9-dafc43773dcb"
      },
      "execution_count": 3,
      "outputs": [
        {
          "output_type": "stream",
          "name": "stdout",
          "text": [
            "Mounted at /content/drive\n"
          ]
        }
      ]
    },
    {
      "cell_type": "code",
      "source": [
        "%%writefile app.py\n",
        "import streamlit as st\n",
        "import plotly.express as px\n",
        "import pandas as pd\n",
        "\n",
        "# Load data\n",
        "file_path1 = '/content/drive/MyDrive//Colab Notebooks/data/Online_Retail_Data/rfm_output.csv'\n",
        "rfmoutput_df = pd.read_csv(file_path1)\n",
        "\n",
        "file_path2 = '/content/drive/MyDrive//Colab Notebooks/data/Online_Retail_Data/summary_result.csv'\n",
        "summaryresult_df = pd.read_csv(file_path2)\n",
        "\n",
        "st.set_page_config(\n",
        "    page_title=\"RFM Approaches for Retail Customer Segmentation\",\n",
        "    layout=\"wide\",  # Set the layout to wide\n",
        "    initial_sidebar_state=\"auto\",  # or \"collapsed\"\n",
        ")\n",
        "st.markdown(\n",
        "    \"\"\"\n",
        "    <style>\n",
        "        body {\n",
        "            background-color: #f9f9f9;\n",
        "            font-family: 'Arial', sans-serif;\n",
        "        }\n",
        "        .stApp {\n",
        "            background-color: #ffffff;\n",
        "        }\n",
        "        .title {\n",
        "            font-size: 36px;\n",
        "            font-weight: bold;\n",
        "            color: #004080;\n",
        "            padding: 20px;\n",
        "            text-align: center;\n",
        "        }\n",
        "    </style>\n",
        "    \"\"\",\n",
        "    unsafe_allow_html=True\n",
        ")\n",
        "\n",
        "st.markdown(\"<h1 style='text-align: center; margin-top: -20px;'>RFM Approaches for Retail Customer Segmentation</h1>\", unsafe_allow_html=True)\n",
        "\n",
        "# Cluster Visualization\n",
        "st.subheader('Cluster Visualization')\n",
        "\n",
        "# Layout for visualizations\n",
        "col1, col2, col3, col4 = st.columns(4)\n",
        "\n",
        "# Visualizations\n",
        "with col1:\n",
        "    fig_percentile = px.pie(\n",
        "        names=rfmoutput_df['Cluster_Percentile'].value_counts().index,\n",
        "        values=rfmoutput_df['Cluster_Percentile'].value_counts().values,\n",
        "        title='Cluster_Percentile Distribution',\n",
        "        height=300, width=200\n",
        "    )\n",
        "    fig_percentile.update_layout(\n",
        "        title=dict(x=0.5, y=0.95, xanchor='center', yanchor='top', font=dict(size=12)),\n",
        "        margin=dict(l=0, r=0, t=30, b=0),\n",
        "        autosize=False\n",
        "    )\n",
        "    st.plotly_chart(fig_percentile)\n",
        "\n",
        "with col2:\n",
        "    fig_weighted = px.pie(\n",
        "        names=rfmoutput_df['Cluster_Weighted'].value_counts().index,\n",
        "        values=rfmoutput_df['Cluster_Weighted'].value_counts().values,\n",
        "        title='Cluster_Weighted Distribution',\n",
        "        height=300, width=200\n",
        "    )\n",
        "    fig_weighted.update_layout(\n",
        "        title=dict(x=0.5, y=0.95, xanchor='center', yanchor='top', font=dict(size=12)),\n",
        "        margin=dict(l=0, r=0, t=30, b=0),\n",
        "        autosize=False\n",
        "    )\n",
        "    st.plotly_chart(fig_weighted)\n",
        "\n",
        "\n",
        "with col3:\n",
        "    fig_equal = px.pie(\n",
        "        names=rfmoutput_df['Cluster_Equal'].value_counts().index,\n",
        "        values=rfmoutput_df['Cluster_Equal'].value_counts().values,\n",
        "        title='Cluster_Equal Distribution',\n",
        "        height=300, width=200\n",
        "    )\n",
        "    fig_equal.update_layout(\n",
        "        title=dict(x=0.5, y=0.95, xanchor='center', yanchor='top', font=dict(size=12)),\n",
        "        margin=dict(l=0, r=0, t=30, b=0),\n",
        "        autosize=False\n",
        "    )\n",
        "    st.plotly_chart(fig_equal)\n",
        "\n",
        "with col4:\n",
        "    fig_std = px.pie(\n",
        "        names=rfmoutput_df['Cluster_StandardDev'].value_counts().index,\n",
        "        values=rfmoutput_df['Cluster_StandardDev'].value_counts().values,\n",
        "        title='Cluster_StandardDev Distribution',\n",
        "        height=300, width=200\n",
        "    )\n",
        "    fig_std.update_layout(\n",
        "        title=dict(x=0.5, y=0.95, xanchor='center', yanchor='top', font=dict(size=12)),\n",
        "        margin=dict(l=5, r=0, t=30, b=0),\n",
        "        autosize=False\n",
        "    )\n",
        "    st.plotly_chart(fig_std)\n",
        "\n",
        "\n",
        "# Layout for visualizations\n",
        "st.subheader('Evaluation Score Distribuition')\n",
        "col1, col2, col3 = st.columns(3)\n",
        "\n",
        "# Bar chart for Silhouette Score\n",
        "with col1:\n",
        "    silhouette_fig = px.bar(\n",
        "        summaryresult_df,\n",
        "        x='RFM Approach',\n",
        "        y='Silhouette Score',\n",
        "        title='Silhouette Score by RFM Approach',\n",
        "        height=300, width=300\n",
        "    )\n",
        "    silhouette_fig.update_layout(\n",
        "        margin=dict(l=10, r=10, t=30, b=0),\n",
        "        title=dict(font=dict(size=16))\n",
        "    )\n",
        "    st.plotly_chart(silhouette_fig)\n",
        "\n",
        "# Line chart for Calinski-Harabasz Score\n",
        "with col2:\n",
        "\n",
        "    calinski_fig = px.line(\n",
        "        summaryresult_df,\n",
        "        x='RFM Approach',\n",
        "        y='Calinski-Harabasz Score',\n",
        "        title='Calinski-Harabasz Score by RFM Approach',\n",
        "        height=300, width=300\n",
        "    )\n",
        "    calinski_fig.update_layout(\n",
        "        margin=dict(l=10, r=10, t=30, b=0),\n",
        "        title=dict(font=dict(size=16))\n",
        "    )\n",
        "    st.plotly_chart(calinski_fig)\n",
        "\n",
        "# Line chart for Inertia\n",
        "with col3:\n",
        "    inertia_fig = px.line(\n",
        "        summaryresult_df,\n",
        "        x='RFM Approach',\n",
        "        y='Inertia',\n",
        "        title='Inertia by RFM Approach',\n",
        "        height=300, width=300\n",
        "    )\n",
        "    inertia_fig.update_layout(\n",
        "        margin=dict(l=10, r=10, t=30, b=0),\n",
        "        title=dict(font=dict(size=16))\n",
        "    )\n",
        "    st.plotly_chart(inertia_fig)\n",
        "\n",
        "# Streamlit App\n",
        "st.subheader('RFM Approach Evaluation')\n",
        "\n",
        "# Dropdown to select RFM Approach\n",
        "selected_rfm_approach = st.selectbox(\"Select RFM Approach:\", summaryresult_df['RFM Approach'])\n",
        "\n",
        "# Dropdown to select Evaluation Metric\n",
        "selected_metric = st.selectbox(\"Select Evaluation Metric:\", ['Silhouette Score', 'Calinski-Harabasz Score', 'Inertia'])\n",
        "\n",
        "# Display result based on selected Evaluation Metric\n",
        "st.text(f\"Result for {selected_rfm_approach} - {selected_metric}:\")\n",
        "selected_rfm_details = summaryresult_df[summaryresult_df['RFM Approach'] == selected_rfm_approach]\n",
        "result_value = selected_rfm_details[selected_metric].values[0]\n",
        "st.write(result_value)\n",
        "\n",
        "# Display selected RFM Approach details\n",
        "st.text(\"Selected RFM Approach Details:\")\n",
        "st.write(selected_rfm_details)\n",
        "\n",
        "# Customer Information\n",
        "st.subheader('Customer Level Customer Segmentation Details')\n",
        "\n",
        "# Dropdown for selecting CustomerID\n",
        "selected_customer = st.selectbox('Select CustomerID:', rfmoutput_df['CustomerID'])\n",
        "\n",
        "# Display selected customer information\n",
        "selected_customer_info = rfmoutput_df[rfmoutput_df['CustomerID'] == selected_customer].squeeze()\n",
        "st.subheader(\"Selected Customer Information:\")\n",
        "\n",
        "# Convert Series to DataFrame and transpose\n",
        "selected_customer_df = pd.DataFrame(selected_customer_info).transpose()\n",
        "\n",
        "# Display the dataframe horizontally\n",
        "st.dataframe(selected_customer_df.style.highlight_max(axis=1))\n",
        "\n",
        "\n"
      ],
      "metadata": {
        "colab": {
          "base_uri": "https://localhost:8080/"
        },
        "id": "sLAJR0p1o751",
        "outputId": "3cd9c05e-4a25-4b3c-d29e-2387232e2208"
      },
      "execution_count": 44,
      "outputs": [
        {
          "output_type": "stream",
          "name": "stdout",
          "text": [
            "Overwriting app.py\n"
          ]
        }
      ]
    },
    {
      "cell_type": "code",
      "source": [
        "!wget -q -O - ipv4.icanhazip.com"
      ],
      "metadata": {
        "colab": {
          "base_uri": "https://localhost:8080/"
        },
        "id": "4rt4aY-d0Wwe",
        "outputId": "1f66038d-9e57-40af-b974-9ce103782b19"
      },
      "execution_count": 5,
      "outputs": [
        {
          "output_type": "stream",
          "name": "stdout",
          "text": [
            "35.230.104.67\n"
          ]
        }
      ]
    },
    {
      "cell_type": "code",
      "source": [
        "! streamlit run app.py & npx localtunnel --port 8501"
      ],
      "metadata": {
        "colab": {
          "base_uri": "https://localhost:8080/"
        },
        "id": "ISvd0KrK0cTi",
        "outputId": "2ead22ac-91b8-46bd-bf78-117c12158026"
      },
      "execution_count": 45,
      "outputs": [
        {
          "output_type": "stream",
          "name": "stdout",
          "text": [
            "\u001b[?25l[..................] / rollbackFailedOptional: verb npm-session 93a825d3d70be5e\u001b[0m\u001b[K\r[..................] / rollbackFailedOptional: verb npm-session 93a825d3d70be5e\u001b[0m\u001b[K\r[..................] / rollbackFailedOptional: verb npm-session 93a825d3d70be5e\u001b[0m\u001b[K\r[..................] - rollbackFailedOptional: verb npm-session 93a825d3d70be5e\u001b[0m\u001b[K\r\n",
            "Collecting usage statistics. To deactivate, set browser.gatherUsageStats to False.\n",
            "\u001b[0m\n",
            "\u001b[0m\n",
            "\u001b[34m\u001b[1m  You can now view your Streamlit app in your browser.\u001b[0m\n",
            "\u001b[0m\n",
            "\u001b[34m  Network URL: \u001b[0m\u001b[1mhttp://172.28.0.12:8501\u001b[0m\n",
            "\u001b[34m  External URL: \u001b[0m\u001b[1mhttp://35.230.104.67:8501\u001b[0m\n",
            "\u001b[0m\n",
            "\u001b[K\u001b[?25hnpx: installed 22 in 2.582s\n",
            "your url is: https://tall-wombats-glow.loca.lt\n",
            "\u001b[34m  Stopping...\u001b[0m\n",
            "^C\n"
          ]
        }
      ]
    }
  ]
}